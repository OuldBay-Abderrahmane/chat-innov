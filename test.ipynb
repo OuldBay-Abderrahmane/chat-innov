{
 "cells": [
  {
   "cell_type": "code",
   "execution_count": 18,
   "metadata": {},
   "outputs": [],
   "source": [
    "from selenium import webdriver\n",
    "from selenium.webdriver.common.by import By\n",
    "from selenium.webdriver.support.ui import WebDriverWait\n",
    "from selenium.webdriver.common.keys import Keys\n",
    "from selenium.webdriver.chrome.options import Options\n",
    "from selenium.webdriver.chrome.service import Service\n",
    "\n",
    "from selenium.webdriver.support import expected_conditions as EC\n",
    "import time\n",
    "import json\n",
    "import os\n",
    "import pandas as pd\n",
    "\n",
    "# Credentials\n",
    "username = \"KyvnScr\"\n",
    "password = \"SVisBetterThanArchi\"\n",
    "\n",
    "\n",
    "class TwitterScrapper: \n",
    "    \"\"\"\n",
    "\n",
    "    Info:  Bot for scrapping important features of specific cryptocurrencies twitter account\n",
    "    @attributes : username, password \n",
    "    @methods : login, scroll_and_fetch, save\n",
    "\n",
    "    \"\"\"\n",
    "    def __init__(self, username, password):\n",
    "        \"\"\"\n",
    "\n",
    "        Args:\n",
    "            username: Twitter account username\n",
    "            password: Twitter account password\n",
    "\n",
    "        Returns:\n",
    "\n",
    "        \"\"\"\n",
    "        self.username = username\n",
    "        self.password = password\n",
    "        service = Service()\n",
    "        chrome_options = webdriver.ChromeOptions()\n",
    "        chrome_options.add_argument(\"--incognito\")\n",
    "        self.driver = webdriver.Chrome(service=service, options=chrome_options)\n",
    "\n",
    "\n",
    "    def login(self):\n",
    "        \"\"\"\n",
    "\n",
    "        Args:\n",
    "            self: TwitterScrapper object\n",
    "\n",
    "        Returns:\n",
    "\n",
    "        \"\"\"\n",
    "        driver = self.driver\n",
    "        # Open Twitter\n",
    "        try:\n",
    "            driver.get(\"https://twitter.com/i/flow/login\")\n",
    "            WebDriverWait(driver, 250).until(EC.presence_of_element_located((By.CSS_SELECTOR, 'input')))\n",
    "            print(\"Login appeared\")\n",
    "        except:\n",
    "            print(\"Login did not appear\")\n",
    "\n",
    "        # Find the search input box and enter the user's handle\n",
    "        try:\n",
    "            username = driver.find_element(By.CSS_SELECTOR, 'input')\n",
    "            username.send_keys(self.username)\n",
    "            print('Found username')\n",
    "            \n",
    "            #Find next button \n",
    "            button = driver.find_element(By.XPATH, \"//*[contains(text(),'Next')]\")\n",
    "            button.click()\n",
    "\n",
    "        except:\n",
    "            print('Did not found username field')\n",
    "\n",
    "        try:\n",
    "            # Find and enter password password\n",
    "            WebDriverWait(driver, 10).until(EC.presence_of_element_located((By.NAME, 'password')))\n",
    "            password = driver.find_element(By.NAME, 'password')\n",
    "            print('Found password')\n",
    "            password.send_keys(self.password)\n",
    "            time.sleep(3)\n",
    "            password.send_keys(Keys.RETURN)\n",
    "            time.sleep(3)\n",
    "        except:\n",
    "            print(\"Did not find password field\")\n",
    "\n",
    "        try: \n",
    "            WebDriverWait(driver, 10000).until(EC.presence_of_element_located(By.XPATH, \"//*[contains(text(),'Home')]\"))\n",
    "            print('Logged in')\n",
    "        except:\n",
    "            print('Log in problem - Maybe captcha or 2-step identification')\n",
    "\n",
    "    def scroll_and_fetch(self):\n",
    "        \"\"\"\n",
    "\n",
    "        Args:\n",
    "            self: TwitterScrapper object\n",
    "            account:  Cryptocurrency account to scrape\n",
    "\n",
    "        Returns:\n",
    "            infos: dictionnary with last tweets informations\n",
    "        \"\"\"\n",
    "        text = []\n",
    "        try:\n",
    "            # Advanced search\n",
    "            self.driver.get(\"https://twitter.com/search?q=(%40Sunrise_de)&src=typed_query\")\n",
    "            time.sleep(3)\n",
    "            WebDriverWait(self.driver, 20).until(EC.visibility_of_element_located((By.XPATH, \"//*[contains(text(),'Latest')]\"))).click()\n",
    "        except:\n",
    "            print(\"Did not found search bar\")\n",
    "        \n",
    "        try:\n",
    "            for i in range(1, 5):\n",
    "                # Scroll down in order to load new tweets\n",
    "                self.driver.execute_script('window.scrollTo(0,document.body.scrollHeight)')\n",
    "                time.sleep(3)\n",
    "        except:\n",
    "            print(\"Can not scroll\")\n",
    "        \n",
    "        try:\n",
    "            # Iterate over a components to get all elements\n",
    "            all_cards = self.driver.find_elements(By.CSS_SELECTOR, 'article')\n",
    "            \n",
    "            for card in all_cards:                \n",
    "                card_text = card.find_elements(By.CSS_SELECTOR, '[data-testid=\"tweetText\"]')\n",
    "                tweet_text = card_text.get_attribute(\"innerText\")\n",
    "                text.append(tweet_text)\n",
    "        except:\n",
    "            print(\"Can't fetch all data points\")    \n",
    "        return text\n",
    "    "
   ]
  },
  {
   "cell_type": "code",
   "execution_count": 19,
   "metadata": {},
   "outputs": [
    {
     "name": "stdout",
     "output_type": "stream",
     "text": [
      "Login appeared\n",
      "Found username\n",
      "Found password\n",
      "Log in problem - Maybe captcha or 2-step identification\n",
      "Can't fetch all data points\n"
     ]
    }
   ],
   "source": [
    "username = \"KyvnScr\"\n",
    "password = \"SVisBetterThanArchi\"\n",
    "bot = TwitterScrapper(username, password)\n",
    "bot.login()\n",
    "data = bot.scroll_and_fetch()"
   ]
  },
  {
   "cell_type": "code",
   "execution_count": 20,
   "metadata": {},
   "outputs": [
    {
     "data": {
      "text/plain": [
       "[]"
      ]
     },
     "execution_count": 20,
     "metadata": {},
     "output_type": "execute_result"
    }
   ],
   "source": [
    "data"
   ]
  },
  {
   "cell_type": "code",
   "execution_count": 12,
   "metadata": {},
   "outputs": [
    {
     "name": "stdout",
     "output_type": "stream",
     "text": [
      "[<selenium.webdriver.remote.webelement.WebElement (session=\"1dbe92a12d65227106477b744c9e8e09\", element=\"f.E20C0D8CAEAFD09FAEF5A059FF10BC26.d.8B79F6C4C7026BD711D3A3D0DA2CE116.e.341\")>, <selenium.webdriver.remote.webelement.WebElement (session=\"1dbe92a12d65227106477b744c9e8e09\", element=\"f.E20C0D8CAEAFD09FAEF5A059FF10BC26.d.8B79F6C4C7026BD711D3A3D0DA2CE116.e.342\")>, <selenium.webdriver.remote.webelement.WebElement (session=\"1dbe92a12d65227106477b744c9e8e09\", element=\"f.E20C0D8CAEAFD09FAEF5A059FF10BC26.d.8B79F6C4C7026BD711D3A3D0DA2CE116.e.343\")>, <selenium.webdriver.remote.webelement.WebElement (session=\"1dbe92a12d65227106477b744c9e8e09\", element=\"f.E20C0D8CAEAFD09FAEF5A059FF10BC26.d.8B79F6C4C7026BD711D3A3D0DA2CE116.e.344\")>, <selenium.webdriver.remote.webelement.WebElement (session=\"1dbe92a12d65227106477b744c9e8e09\", element=\"f.E20C0D8CAEAFD09FAEF5A059FF10BC26.d.8B79F6C4C7026BD711D3A3D0DA2CE116.e.345\")>, <selenium.webdriver.remote.webelement.WebElement (session=\"1dbe92a12d65227106477b744c9e8e09\", element=\"f.E20C0D8CAEAFD09FAEF5A059FF10BC26.d.8B79F6C4C7026BD711D3A3D0DA2CE116.e.346\")>, <selenium.webdriver.remote.webelement.WebElement (session=\"1dbe92a12d65227106477b744c9e8e09\", element=\"f.E20C0D8CAEAFD09FAEF5A059FF10BC26.d.8B79F6C4C7026BD711D3A3D0DA2CE116.e.347\")>, <selenium.webdriver.remote.webelement.WebElement (session=\"1dbe92a12d65227106477b744c9e8e09\", element=\"f.E20C0D8CAEAFD09FAEF5A059FF10BC26.d.8B79F6C4C7026BD711D3A3D0DA2CE116.e.348\")>, <selenium.webdriver.remote.webelement.WebElement (session=\"1dbe92a12d65227106477b744c9e8e09\", element=\"f.E20C0D8CAEAFD09FAEF5A059FF10BC26.d.8B79F6C4C7026BD711D3A3D0DA2CE116.e.349\")>, <selenium.webdriver.remote.webelement.WebElement (session=\"1dbe92a12d65227106477b744c9e8e09\", element=\"f.E20C0D8CAEAFD09FAEF5A059FF10BC26.d.8B79F6C4C7026BD711D3A3D0DA2CE116.e.350\")>, <selenium.webdriver.remote.webelement.WebElement (session=\"1dbe92a12d65227106477b744c9e8e09\", element=\"f.E20C0D8CAEAFD09FAEF5A059FF10BC26.d.8B79F6C4C7026BD711D3A3D0DA2CE116.e.351\")>, <selenium.webdriver.remote.webelement.WebElement (session=\"1dbe92a12d65227106477b744c9e8e09\", element=\"f.E20C0D8CAEAFD09FAEF5A059FF10BC26.d.8B79F6C4C7026BD711D3A3D0DA2CE116.e.352\")>, <selenium.webdriver.remote.webelement.WebElement (session=\"1dbe92a12d65227106477b744c9e8e09\", element=\"f.E20C0D8CAEAFD09FAEF5A059FF10BC26.d.8B79F6C4C7026BD711D3A3D0DA2CE116.e.353\")>, <selenium.webdriver.remote.webelement.WebElement (session=\"1dbe92a12d65227106477b744c9e8e09\", element=\"f.E20C0D8CAEAFD09FAEF5A059FF10BC26.d.8B79F6C4C7026BD711D3A3D0DA2CE116.e.354\")>, <selenium.webdriver.remote.webelement.WebElement (session=\"1dbe92a12d65227106477b744c9e8e09\", element=\"f.E20C0D8CAEAFD09FAEF5A059FF10BC26.d.8B79F6C4C7026BD711D3A3D0DA2CE116.e.355\")>]\n"
     ]
    }
   ],
   "source": [
    "all_cards = bot.driver.find_elements(By.CSS_SELECTOR, 'article')\n",
    "print(all_cards)\n"
   ]
  },
  {
   "cell_type": "code",
   "execution_count": 21,
   "metadata": {},
   "outputs": [
    {
     "ename": "AttributeError",
     "evalue": "'list' object has no attribute 'get_attribute'",
     "output_type": "error",
     "traceback": [
      "\u001b[0;31m---------------------------------------------------------------------------\u001b[0m",
      "\u001b[0;31mAttributeError\u001b[0m                            Traceback (most recent call last)",
      "Cell \u001b[0;32mIn [21], line 6\u001b[0m\n\u001b[1;32m      4\u001b[0m \u001b[38;5;28;01mfor\u001b[39;00m card \u001b[38;5;129;01min\u001b[39;00m all_cards:                \n\u001b[1;32m      5\u001b[0m     card_text \u001b[38;5;241m=\u001b[39m card\u001b[38;5;241m.\u001b[39mfind_elements(By\u001b[38;5;241m.\u001b[39mCSS_SELECTOR, \u001b[38;5;124m'\u001b[39m\u001b[38;5;124m[data-testid=\u001b[39m\u001b[38;5;124m\"\u001b[39m\u001b[38;5;124mtweetText\u001b[39m\u001b[38;5;124m\"\u001b[39m\u001b[38;5;124m]\u001b[39m\u001b[38;5;124m'\u001b[39m)\n\u001b[0;32m----> 6\u001b[0m     tweet_text \u001b[38;5;241m=\u001b[39m card_text\u001b[38;5;241m.\u001b[39mget_attribute(\u001b[38;5;124m\"\u001b[39m\u001b[38;5;124minnerText\u001b[39m\u001b[38;5;124m\"\u001b[39m)\n\u001b[1;32m      7\u001b[0m     text\u001b[38;5;241m.\u001b[39mappend(tweet_text)\n",
      "\u001b[0;31mAttributeError\u001b[0m: 'list' object has no attribute 'get_attribute'"
     ]
    }
   ],
   "source": [
    "text = list()\n",
    "all_cards = bot.driver.find_elements(By.CSS_SELECTOR, 'article')\n",
    "\n",
    "for card in all_cards:                \n",
    "    card_text = card.find_elements(By.CSS_SELECTOR, '[data-testid=\"tweetText\"]')\n",
    "    tweet_text = card_text.get_attribute(\"innerText\")\n",
    "    text.append(tweet_text)"
   ]
  },
  {
   "cell_type": "code",
   "execution_count": null,
   "metadata": {},
   "outputs": [],
   "source": []
  }
 ],
 "metadata": {
  "kernelspec": {
   "display_name": ".venv",
   "language": "python",
   "name": "python3"
  },
  "language_info": {
   "codemirror_mode": {
    "name": "ipython",
    "version": 3
   },
   "file_extension": ".py",
   "mimetype": "text/x-python",
   "name": "python",
   "nbconvert_exporter": "python",
   "pygments_lexer": "ipython3",
   "version": "3.9.10"
  }
 },
 "nbformat": 4,
 "nbformat_minor": 2
}
